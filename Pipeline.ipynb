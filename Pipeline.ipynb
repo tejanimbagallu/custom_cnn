{
 "cells": [
  {
   "cell_type": "code",
   "execution_count": 27,
   "metadata": {},
   "outputs": [
    {
     "name": "stdout",
     "output_type": "stream",
     "text": [
      "All libraries imported successfully!\n",
      "\n",
      "Python version: 3.10.18 (main, Jun  3 2025, 18:23:41) [Clang 17.0.0 (clang-1700.0.13.3)]\n",
      "Torch version: 2.4.1\n",
      "Torchvision version: 0.19.1\n",
      "Torchaudio version: 2.4.1\n",
      "Scikit-learn version: 1.3.2\n",
      "Matplotlib version: 3.7.5\n",
      "OpenCV version: 4.11.0\n",
      "PIL version: 11.3.0\n",
      "MPS backend is available and will be used on Apple Silicon (M1/M2).\n",
      "Random tensor on device: tensor([[0.0816, 0.5286, 0.3408],\n",
      "        [0.8919, 0.4733, 0.7385],\n",
      "        [0.1591, 0.8248, 0.5469]], device='mps:0')\n"
     ]
    }
   ],
   "source": [
    "\n",
    "\n",
    "import torch\n",
    "import torchvision\n",
    "import torchaudio\n",
    "import sklearn\n",
    "import matplotlib\n",
    "import cv2\n",
    "import PIL\n",
    "import tqdm\n",
    "import seaborn\n",
    "import numpy as np\n",
    "\n",
    "print(\"All libraries imported successfully!\\n\")\n",
    "\n",
    "import sys\n",
    "print(f\"Python version: {sys.version}\")\n",
    "print(f\"Torch version: {torch.__version__}\")\n",
    "print(f\"Torchvision version: {torchvision.__version__}\")\n",
    "print(f\"Torchaudio version: {torchaudio.__version__}\")\n",
    "print(f\"Scikit-learn version: {sklearn.__version__}\")\n",
    "print(f\"Matplotlib version: {matplotlib.__version__}\")\n",
    "print(f\"OpenCV version: {cv2.__version__}\")\n",
    "print(f\"PIL version: {PIL.__version__}\")\n",
    "\n",
    "\n",
    "if torch.backends.mps.is_available():\n",
    "    device = torch.device(\"mps\")\n",
    "    print(\"MPS backend is available and will be used on Apple Silicon (M1/M2).\")\n",
    "else:\n",
    "    device = torch.device(\"cpu\")\n",
    "    print(\"MPS backend not available, using CPU.\")\n",
    "\n",
    "x = torch.rand(3,3).to(device)\n",
    "print(\"Random tensor on device:\", x)\n"
   ]
  },
  {
   "cell_type": "code",
   "execution_count": 28,
   "metadata": {},
   "outputs": [
    {
     "name": "stdout",
     "output_type": "stream",
     "text": [
      "Train set size: 9800 images, 35 classes\n",
      "Val Clean size: 2800 images\n",
      "Val Noisy size: 2800 images\n",
      "Test Clean size: 1400 images\n",
      "Test Noisy size: 1400 images\n"
     ]
    }
   ],
   "source": [
    "\n",
    "\n",
    "import os\n",
    "from torchvision import datasets, transforms\n",
    "from torch.utils.data import DataLoader\n",
    "\n",
    "\n",
    "root_dir = \"/Users/tejanimbagallu/Documents/ME CS/1-1/ADM/Project/dataset\"\n",
    "\n",
    "IMG_SIZE = 250\n",
    "BATCH_SIZE = 32\n",
    "\n",
    "\n",
    "IMAGENET_MEAN = [0.485, 0.456, 0.406]\n",
    "IMAGENET_STD = [0.229, 0.224, 0.225]\n",
    "\n",
    "\n",
    "transform = transforms.Compose([\n",
    "    transforms.Resize((IMG_SIZE, IMG_SIZE)),\n",
    "    transforms.ToTensor(),\n",
    "    transforms.Normalize(IMAGENET_MEAN, IMAGENET_STD),\n",
    "])\n",
    "\n",
    "train_dir = os.path.join(root_dir, \"train\")\n",
    "train_dataset = datasets.ImageFolder(root=train_dir, transform=transform)\n",
    "\n",
    "val_clean_dir = os.path.join(root_dir, \"val\", \"clean\")\n",
    "val_noisy_dir = os.path.join(root_dir, \"val\", \"noisy\")\n",
    "val_clean_dataset = datasets.ImageFolder(root=val_clean_dir, transform=transform)\n",
    "val_noisy_dataset = datasets.ImageFolder(root=val_noisy_dir, transform=transform)\n",
    "\n",
    "test_clean_dir = os.path.join(root_dir, \"test\", \"clean\")\n",
    "test_noisy_dir = os.path.join(root_dir, \"test\", \"noisy\")\n",
    "test_clean_dataset = datasets.ImageFolder(root=test_clean_dir, transform=transform)\n",
    "test_noisy_dataset = datasets.ImageFolder(root=test_noisy_dir, transform=transform)\n",
    "\n",
    "train_loader = DataLoader(train_dataset, batch_size=BATCH_SIZE, shuffle=True, num_workers=0)\n",
    "val_clean_loader = DataLoader(val_clean_dataset, batch_size=BATCH_SIZE, shuffle=False, num_workers=0)\n",
    "val_noisy_loader = DataLoader(val_noisy_dataset, batch_size=BATCH_SIZE, shuffle=False, num_workers=0)\n",
    "test_clean_loader = DataLoader(test_clean_dataset, batch_size=BATCH_SIZE, shuffle=False, num_workers=0)\n",
    "test_noisy_loader = DataLoader(test_noisy_dataset, batch_size=BATCH_SIZE, shuffle=False, num_workers=0)\n",
    "\n",
    "class_to_idx = train_dataset.class_to_idx\n",
    "idx_to_class = {v: k for k, v in class_to_idx.items()}\n",
    "\n",
    "print(f\"Train set size: {len(train_dataset)} images, {len(class_to_idx)} classes\")\n",
    "print(f\"Val Clean size: {len(val_clean_dataset)} images\")\n",
    "print(f\"Val Noisy size: {len(val_noisy_dataset)} images\")\n",
    "print(f\"Test Clean size: {len(test_clean_dataset)} images\")\n",
    "print(f\"Test Noisy size: {len(test_noisy_dataset)} images\")"
   ]
  },
  {
   "cell_type": "code",
   "execution_count": 9,
   "metadata": {},
   "outputs": [
    {
     "name": "stdout",
     "output_type": "stream",
     "text": [
      "CustomCNN(\n",
      "  (conv1): Sequential(\n",
      "    (0): Conv2d(3, 32, kernel_size=(3, 3), stride=(1, 1), padding=(1, 1), bias=False)\n",
      "    (1): BatchNorm2d(32, eps=1e-05, momentum=0.1, affine=True, track_running_stats=True)\n",
      "    (2): ReLU(inplace=True)\n",
      "    (3): Conv2d(32, 32, kernel_size=(3, 3), stride=(1, 1), padding=(1, 1), bias=False)\n",
      "    (4): BatchNorm2d(32, eps=1e-05, momentum=0.1, affine=True, track_running_stats=True)\n",
      "    (5): ReLU(inplace=True)\n",
      "    (6): MaxPool2d(kernel_size=2, stride=2, padding=0, dilation=1, ceil_mode=False)\n",
      "  )\n",
      "  (conv2): Sequential(\n",
      "    (0): Conv2d(32, 64, kernel_size=(3, 3), stride=(1, 1), padding=(1, 1), bias=False)\n",
      "    (1): BatchNorm2d(64, eps=1e-05, momentum=0.1, affine=True, track_running_stats=True)\n",
      "    (2): ReLU(inplace=True)\n",
      "    (3): Conv2d(64, 64, kernel_size=(3, 3), stride=(1, 1), padding=(1, 1), bias=False)\n",
      "    (4): BatchNorm2d(64, eps=1e-05, momentum=0.1, affine=True, track_running_stats=True)\n",
      "    (5): ReLU(inplace=True)\n",
      "    (6): MaxPool2d(kernel_size=2, stride=2, padding=0, dilation=1, ceil_mode=False)\n",
      "  )\n",
      "  (conv3): Sequential(\n",
      "    (0): Conv2d(64, 128, kernel_size=(3, 3), stride=(1, 1), padding=(1, 1), bias=False)\n",
      "    (1): BatchNorm2d(128, eps=1e-05, momentum=0.1, affine=True, track_running_stats=True)\n",
      "    (2): ReLU(inplace=True)\n",
      "    (3): Conv2d(128, 128, kernel_size=(3, 3), stride=(1, 1), padding=(1, 1), bias=False)\n",
      "    (4): BatchNorm2d(128, eps=1e-05, momentum=0.1, affine=True, track_running_stats=True)\n",
      "    (5): ReLU(inplace=True)\n",
      "    (6): MaxPool2d(kernel_size=2, stride=2, padding=0, dilation=1, ceil_mode=False)\n",
      "  )\n",
      "  (conv4): Sequential(\n",
      "    (0): Conv2d(128, 256, kernel_size=(3, 3), stride=(1, 1), padding=(1, 1), bias=False)\n",
      "    (1): BatchNorm2d(256, eps=1e-05, momentum=0.1, affine=True, track_running_stats=True)\n",
      "    (2): ReLU(inplace=True)\n",
      "    (3): MaxPool2d(kernel_size=2, stride=2, padding=0, dilation=1, ceil_mode=False)\n",
      "  )\n",
      "  (conv5): Sequential(\n",
      "    (0): Conv2d(256, 512, kernel_size=(3, 3), stride=(1, 1), padding=(1, 1), bias=False)\n",
      "    (1): BatchNorm2d(512, eps=1e-05, momentum=0.1, affine=True, track_running_stats=True)\n",
      "    (2): ReLU(inplace=True)\n",
      "    (3): AdaptiveAvgPool2d(output_size=(1, 1))\n",
      "  )\n",
      "  (dropout): Dropout(p=0.4, inplace=False)\n",
      "  (fc): Linear(in_features=512, out_features=35, bias=True)\n",
      ")\n"
     ]
    }
   ],
   "source": [
    "\n",
    "import torch\n",
    "import torch.nn as nn\n",
    "import torch.nn.functional as F\n",
    "\n",
    "class CustomCNN(nn.Module):\n",
    "    \"\"\"\n",
    "    A compact CNN for 250x250 face images with 35 classes.\n",
    "    Includes conv blocks, batchnorm, ReLU, dropout, and global avg pooling.\n",
    "    \"\"\"\n",
    "\n",
    "    def __init__(self, num_classes=35, dropout=0.4):\n",
    "        super(CustomCNN, self).__init__()\n",
    "\n",
    "        self.conv1 = nn.Sequential(\n",
    "            nn.Conv2d(3, 32, kernel_size=3, padding=1, bias=False),\n",
    "            nn.BatchNorm2d(32),\n",
    "            nn.ReLU(inplace=True),\n",
    "            nn.Conv2d(32, 32, kernel_size=3, padding=1, bias=False),\n",
    "            nn.BatchNorm2d(32),\n",
    "            nn.ReLU(inplace=True),\n",
    "            nn.MaxPool2d(2) \n",
    "        )\n",
    "\n",
    "        self.conv2 = nn.Sequential(\n",
    "            nn.Conv2d(32, 64, kernel_size=3, padding=1, bias=False),\n",
    "            nn.BatchNorm2d(64),\n",
    "            nn.ReLU(inplace=True),\n",
    "            nn.Conv2d(64, 64, kernel_size=3, padding=1, bias=False),\n",
    "            nn.BatchNorm2d(64),\n",
    "            nn.ReLU(inplace=True),\n",
    "            nn.MaxPool2d(2)\n",
    "        )\n",
    "\n",
    "\n",
    "        self.conv3 = nn.Sequential(\n",
    "            nn.Conv2d(64, 128, kernel_size=3, padding=1, bias=False),\n",
    "            nn.BatchNorm2d(128),\n",
    "            nn.ReLU(inplace=True),\n",
    "            nn.Conv2d(128, 128, kernel_size=3, padding=1, bias=False),\n",
    "            nn.BatchNorm2d(128),\n",
    "            nn.ReLU(inplace=True),\n",
    "            nn.MaxPool2d(2)\n",
    "        )\n",
    "\n",
    "\n",
    "        self.conv4 = nn.Sequential(\n",
    "            nn.Conv2d(128, 256, kernel_size=3, padding=1, bias=False),\n",
    "            nn.BatchNorm2d(256),\n",
    "            nn.ReLU(inplace=True),\n",
    "            nn.MaxPool2d(2) \n",
    "        )\n",
    "\n",
    "\n",
    "        self.conv5 = nn.Sequential(\n",
    "            nn.Conv2d(256, 512, kernel_size=3, padding=1, bias=False),\n",
    "            nn.BatchNorm2d(512),\n",
    "            nn.ReLU(inplace=True),\n",
    "            nn.AdaptiveAvgPool2d((1, 1))\n",
    "        )\n",
    "\n",
    "        self.dropout = nn.Dropout(dropout)\n",
    "        self.fc = nn.Linear(512, num_classes)\n",
    "\n",
    "        self._init_weights()\n",
    "\n",
    "    def _init_weights(self):\n",
    "        for m in self.modules():\n",
    "            if isinstance(m, nn.Conv2d):\n",
    "                nn.init.kaiming_normal_(m.weight, mode='fan_out', nonlinearity='relu')\n",
    "            elif isinstance(m, nn.BatchNorm2d):\n",
    "                nn.init.constant_(m.weight, 1)\n",
    "                nn.init.constant_(m.bias, 0)\n",
    "            elif isinstance(m, nn.Linear):\n",
    "                nn.init.normal_(m.weight, 0, 0.01)\n",
    "                nn.init.constant_(m.bias, 0)\n",
    "\n",
    "    def forward(self, x):\n",
    "        x = self.conv1(x)\n",
    "        x = self.conv2(x)\n",
    "        x = self.conv3(x)\n",
    "        x = self.conv4(x)\n",
    "        x = self.conv5(x)\n",
    "        x = x.view(x.size(0), -1) \n",
    "        x = self.dropout(x)\n",
    "        x = self.fc(x)\n",
    "        return x\n",
    "\n",
    "\n",
    "device = torch.device(\"mps\" if torch.backends.mps.is_available() else \"cpu\")\n",
    "model = CustomCNN(num_classes=len(class_to_idx)).to(device)\n",
    "print(model)\n"
   ]
  },
  {
   "cell_type": "code",
   "execution_count": null,
   "metadata": {},
   "outputs": [
    {
     "data": {
      "application/vnd.jupyter.widget-view+json": {
       "model_id": "c2307c5e6488404297577600a5044585",
       "version_major": 2,
       "version_minor": 0
      },
      "text/plain": [
       "Training:   0%|          | 0/307 [00:00<?, ?it/s]"
      ]
     },
     "metadata": {},
     "output_type": "display_data"
    },
    {
     "name": "stdout",
     "output_type": "stream",
     "text": [
      "Epoch 1/40 | Train Loss: 2.2871, Train Acc: 0.3342 | Val Loss: 2.3263, Val Acc: 0.3332, F1: 0.3149, AUC: 0.9038390231092436\n",
      "✅ Saved Best Model\n"
     ]
    },
    {
     "data": {
      "application/vnd.jupyter.widget-view+json": {
       "model_id": "52c4082620424ba3b19ab6141b348932",
       "version_major": 2,
       "version_minor": 0
      },
      "text/plain": [
       "Training:   0%|          | 0/307 [00:00<?, ?it/s]"
      ]
     },
     "metadata": {},
     "output_type": "display_data"
    },
    {
     "name": "stdout",
     "output_type": "stream",
     "text": [
      "Epoch 2/40 | Train Loss: 2.2196, Train Acc: 0.3614 | Val Loss: 2.1897, Val Acc: 0.3650, F1: 0.3475, AUC: 0.9128844537815126\n",
      "✅ Saved Best Model\n"
     ]
    },
    {
     "data": {
      "application/vnd.jupyter.widget-view+json": {
       "model_id": "ece4ac5b05e64a5c980532d986b60021",
       "version_major": 2,
       "version_minor": 0
      },
      "text/plain": [
       "Training:   0%|          | 0/307 [00:00<?, ?it/s]"
      ]
     },
     "metadata": {},
     "output_type": "display_data"
    },
    {
     "name": "stdout",
     "output_type": "stream",
     "text": [
      "Epoch 3/40 | Train Loss: 2.1681, Train Acc: 0.3744 | Val Loss: 2.1709, Val Acc: 0.3579, F1: 0.3387, AUC: 0.9154623161764706\n"
     ]
    },
    {
     "data": {
      "application/vnd.jupyter.widget-view+json": {
       "model_id": "4ba4b1cb744f49eb925ee06ae249996e",
       "version_major": 2,
       "version_minor": 0
      },
      "text/plain": [
       "Training:   0%|          | 0/307 [00:00<?, ?it/s]"
      ]
     },
     "metadata": {},
     "output_type": "display_data"
    },
    {
     "name": "stdout",
     "output_type": "stream",
     "text": [
      "Epoch 4/40 | Train Loss: 2.1075, Train Acc: 0.3938 | Val Loss: 2.0985, Val Acc: 0.3839, F1: 0.3650, AUC: 0.9224725577731094\n",
      "✅ Saved Best Model\n"
     ]
    },
    {
     "data": {
      "application/vnd.jupyter.widget-view+json": {
       "model_id": "cafd3224ffed4682986f8d917f448ac1",
       "version_major": 2,
       "version_minor": 0
      },
      "text/plain": [
       "Training:   0%|          | 0/307 [00:00<?, ?it/s]"
      ]
     },
     "metadata": {},
     "output_type": "display_data"
    },
    {
     "name": "stdout",
     "output_type": "stream",
     "text": [
      "Epoch 5/40 | Train Loss: 2.0462, Train Acc: 0.4073 | Val Loss: 2.1565, Val Acc: 0.3668, F1: 0.3556, AUC: 0.9217693014705883\n"
     ]
    },
    {
     "data": {
      "application/vnd.jupyter.widget-view+json": {
       "model_id": "37e47aed810d4623a5830fcb1eb01cdc",
       "version_major": 2,
       "version_minor": 0
      },
      "text/plain": [
       "Training:   0%|          | 0/307 [00:00<?, ?it/s]"
      ]
     },
     "metadata": {},
     "output_type": "display_data"
    },
    {
     "name": "stdout",
     "output_type": "stream",
     "text": [
      "Epoch 6/40 | Train Loss: 1.9943, Train Acc: 0.4280 | Val Loss: 2.0477, Val Acc: 0.3993, F1: 0.3821, AUC: 0.9275882352941177\n",
      "✅ Saved Best Model\n"
     ]
    },
    {
     "data": {
      "application/vnd.jupyter.widget-view+json": {
       "model_id": "5d494c99b4d5420790156cbd829d8531",
       "version_major": 2,
       "version_minor": 0
      },
      "text/plain": [
       "Training:   0%|          | 0/307 [00:00<?, ?it/s]"
      ]
     },
     "metadata": {},
     "output_type": "display_data"
    },
    {
     "name": "stdout",
     "output_type": "stream",
     "text": [
      "Epoch 7/40 | Train Loss: 1.9335, Train Acc: 0.4517 | Val Loss: 2.0377, Val Acc: 0.4054, F1: 0.3941, AUC: 0.9249206932773107\n",
      "✅ Saved Best Model\n"
     ]
    },
    {
     "data": {
      "application/vnd.jupyter.widget-view+json": {
       "model_id": "1aaa21a827a040bc8f7160a2321b982a",
       "version_major": 2,
       "version_minor": 0
      },
      "text/plain": [
       "Training:   0%|          | 0/307 [00:00<?, ?it/s]"
      ]
     },
     "metadata": {},
     "output_type": "display_data"
    },
    {
     "name": "stdout",
     "output_type": "stream",
     "text": [
      "Epoch 8/40 | Train Loss: 1.8762, Train Acc: 0.4686 | Val Loss: 1.9847, Val Acc: 0.4357, F1: 0.4389, AUC: 0.9312678571428571\n",
      "✅ Saved Best Model\n"
     ]
    },
    {
     "data": {
      "application/vnd.jupyter.widget-view+json": {
       "model_id": "aa02bc5461ea4a1f977cbc1017a5e5a7",
       "version_major": 2,
       "version_minor": 0
      },
      "text/plain": [
       "Training:   0%|          | 0/307 [00:00<?, ?it/s]"
      ]
     },
     "metadata": {},
     "output_type": "display_data"
    },
    {
     "name": "stdout",
     "output_type": "stream",
     "text": [
      "Epoch 9/40 | Train Loss: 1.8188, Train Acc: 0.4884 | Val Loss: 1.8846, Val Acc: 0.4632, F1: 0.4568, AUC: 0.9400051207983194\n",
      "✅ Saved Best Model\n"
     ]
    },
    {
     "data": {
      "application/vnd.jupyter.widget-view+json": {
       "model_id": "933a708a23aa4da9af2ed8982144dd2a",
       "version_major": 2,
       "version_minor": 0
      },
      "text/plain": [
       "Training:   0%|          | 0/307 [00:00<?, ?it/s]"
      ]
     },
     "metadata": {},
     "output_type": "display_data"
    },
    {
     "name": "stdout",
     "output_type": "stream",
     "text": [
      "Epoch 10/40 | Train Loss: 1.7604, Train Acc: 0.5022 | Val Loss: 1.7909, Val Acc: 0.4807, F1: 0.4667, AUC: 0.9436712184873949\n",
      "✅ Saved Best Model\n"
     ]
    },
    {
     "data": {
      "application/vnd.jupyter.widget-view+json": {
       "model_id": "97d9bc62fb1547d6a5ddbdf9c2d1aa7f",
       "version_major": 2,
       "version_minor": 0
      },
      "text/plain": [
       "Training:   0%|          | 0/307 [00:00<?, ?it/s]"
      ]
     },
     "metadata": {},
     "output_type": "display_data"
    },
    {
     "name": "stdout",
     "output_type": "stream",
     "text": [
      "Epoch 11/40 | Train Loss: 1.6872, Train Acc: 0.5297 | Val Loss: 1.7746, Val Acc: 0.4789, F1: 0.4756, AUC: 0.9474296218487394\n"
     ]
    },
    {
     "data": {
      "application/vnd.jupyter.widget-view+json": {
       "model_id": "b7854bd8b22a4e04a451a9b6540ad428",
       "version_major": 2,
       "version_minor": 0
      },
      "text/plain": [
       "Training:   0%|          | 0/307 [00:00<?, ?it/s]"
      ]
     },
     "metadata": {},
     "output_type": "display_data"
    },
    {
     "name": "stdout",
     "output_type": "stream",
     "text": [
      "Epoch 12/40 | Train Loss: 1.6310, Train Acc: 0.5483 | Val Loss: 1.7612, Val Acc: 0.5061, F1: 0.5023, AUC: 0.9477991071428572\n",
      "✅ Saved Best Model\n"
     ]
    },
    {
     "data": {
      "application/vnd.jupyter.widget-view+json": {
       "model_id": "0b87086ae4624865afa23ed671f1cea7",
       "version_major": 2,
       "version_minor": 0
      },
      "text/plain": [
       "Training:   0%|          | 0/307 [00:00<?, ?it/s]"
      ]
     },
     "metadata": {},
     "output_type": "display_data"
    },
    {
     "name": "stdout",
     "output_type": "stream",
     "text": [
      "Epoch 13/40 | Train Loss: 1.5825, Train Acc: 0.5648 | Val Loss: 2.1128, Val Acc: 0.4025, F1: 0.3861, AUC: 0.9342454044117646\n"
     ]
    },
    {
     "data": {
      "application/vnd.jupyter.widget-view+json": {
       "model_id": "acb4b120d01f44238ef5657522da0e6d",
       "version_major": 2,
       "version_minor": 0
      },
      "text/plain": [
       "Training:   0%|          | 0/307 [00:00<?, ?it/s]"
      ]
     },
     "metadata": {},
     "output_type": "display_data"
    },
    {
     "name": "stdout",
     "output_type": "stream",
     "text": [
      "Epoch 14/40 | Train Loss: 1.5196, Train Acc: 0.5817 | Val Loss: 1.7357, Val Acc: 0.5029, F1: 0.5015, AUC: 0.9514251575630253\n"
     ]
    },
    {
     "data": {
      "application/vnd.jupyter.widget-view+json": {
       "model_id": "7be9563d3bd44e6a9bb0982f4a0e9b9c",
       "version_major": 2,
       "version_minor": 0
      },
      "text/plain": [
       "Training:   0%|          | 0/307 [00:00<?, ?it/s]"
      ]
     },
     "metadata": {},
     "output_type": "display_data"
    },
    {
     "name": "stdout",
     "output_type": "stream",
     "text": [
      "Epoch 15/40 | Train Loss: 1.4672, Train Acc: 0.5947 | Val Loss: 1.7711, Val Acc: 0.4821, F1: 0.4686, AUC: 0.9502614233193276\n"
     ]
    },
    {
     "data": {
      "application/vnd.jupyter.widget-view+json": {
       "model_id": "2de4bf8b052c4e6c9f3a6e3c59ff7f25",
       "version_major": 2,
       "version_minor": 0
      },
      "text/plain": [
       "Training:   0%|          | 0/307 [00:00<?, ?it/s]"
      ]
     },
     "metadata": {},
     "output_type": "display_data"
    },
    {
     "name": "stdout",
     "output_type": "stream",
     "text": [
      "Epoch 16/40 | Train Loss: 1.4266, Train Acc: 0.6086 | Val Loss: 1.8318, Val Acc: 0.4714, F1: 0.4731, AUC: 0.9488360031512605\n"
     ]
    },
    {
     "data": {
      "application/vnd.jupyter.widget-view+json": {
       "model_id": "5dff3f69825c45bb8cc9177faa63922a",
       "version_major": 2,
       "version_minor": 0
      },
      "text/plain": [
       "Training:   0%|          | 0/307 [00:00<?, ?it/s]"
      ]
     },
     "metadata": {},
     "output_type": "display_data"
    },
    {
     "name": "stdout",
     "output_type": "stream",
     "text": [
      "Epoch 17/40 | Train Loss: 1.3593, Train Acc: 0.6332 | Val Loss: 1.6932, Val Acc: 0.5204, F1: 0.5144, AUC: 0.9525961134453782\n",
      "✅ Saved Best Model\n"
     ]
    },
    {
     "data": {
      "application/vnd.jupyter.widget-view+json": {
       "model_id": "09d113a1d06f4d7b8f4caac219fa9f5a",
       "version_major": 2,
       "version_minor": 0
      },
      "text/plain": [
       "Training:   0%|          | 0/307 [00:00<?, ?it/s]"
      ]
     },
     "metadata": {},
     "output_type": "display_data"
    },
    {
     "name": "stdout",
     "output_type": "stream",
     "text": [
      "Epoch 18/40 | Train Loss: 1.3179, Train Acc: 0.6424 | Val Loss: 1.6485, Val Acc: 0.5207, F1: 0.5119, AUC: 0.9597748161764706\n",
      "✅ Saved Best Model\n"
     ]
    },
    {
     "data": {
      "application/vnd.jupyter.widget-view+json": {
       "model_id": "18004bbcb03b4def8482d835f4f7543c",
       "version_major": 2,
       "version_minor": 0
      },
      "text/plain": [
       "Training:   0%|          | 0/307 [00:00<?, ?it/s]"
      ]
     },
     "metadata": {},
     "output_type": "display_data"
    },
    {
     "name": "stdout",
     "output_type": "stream",
     "text": [
      "Epoch 19/40 | Train Loss: 1.2692, Train Acc: 0.6535 | Val Loss: 2.0444, Val Acc: 0.4025, F1: 0.3829, AUC: 0.9493555672268907\n"
     ]
    },
    {
     "data": {
      "application/vnd.jupyter.widget-view+json": {
       "model_id": "fcad0c27e2ae435b9c8b117c461da639",
       "version_major": 2,
       "version_minor": 0
      },
      "text/plain": [
       "Training:   0%|          | 0/307 [00:00<?, ?it/s]"
      ]
     },
     "metadata": {},
     "output_type": "display_data"
    },
    {
     "name": "stdout",
     "output_type": "stream",
     "text": [
      "Epoch 20/40 | Train Loss: 1.2191, Train Acc: 0.6737 | Val Loss: 1.6567, Val Acc: 0.5193, F1: 0.5153, AUC: 0.9591251313025209\n"
     ]
    },
    {
     "data": {
      "application/vnd.jupyter.widget-view+json": {
       "model_id": "936038de84544ddeafd7a7c253190227",
       "version_major": 2,
       "version_minor": 0
      },
      "text/plain": [
       "Training:   0%|          | 0/307 [00:00<?, ?it/s]"
      ]
     },
     "metadata": {},
     "output_type": "display_data"
    },
    {
     "name": "stdout",
     "output_type": "stream",
     "text": [
      "Epoch 21/40 | Train Loss: 1.1690, Train Acc: 0.6911 | Val Loss: 1.6221, Val Acc: 0.5104, F1: 0.5233, AUC: 0.9622547268907563\n"
     ]
    },
    {
     "data": {
      "application/vnd.jupyter.widget-view+json": {
       "model_id": "fc6a84d54263484c8f3e4d68d8ef455b",
       "version_major": 2,
       "version_minor": 0
      },
      "text/plain": [
       "Training:   0%|          | 0/307 [00:00<?, ?it/s]"
      ]
     },
     "metadata": {},
     "output_type": "display_data"
    },
    {
     "name": "stdout",
     "output_type": "stream",
     "text": [
      "Epoch 22/40 | Train Loss: 1.1078, Train Acc: 0.7059 | Val Loss: 1.4781, Val Acc: 0.5721, F1: 0.5742, AUC: 0.9663412552521008\n",
      "✅ Saved Best Model\n"
     ]
    },
    {
     "data": {
      "application/vnd.jupyter.widget-view+json": {
       "model_id": "f3fa56e66e7246719d4bc390ac1958cc",
       "version_major": 2,
       "version_minor": 0
      },
      "text/plain": [
       "Training:   0%|          | 0/307 [00:00<?, ?it/s]"
      ]
     },
     "metadata": {},
     "output_type": "display_data"
    },
    {
     "name": "stdout",
     "output_type": "stream",
     "text": [
      "Epoch 23/40 | Train Loss: 1.0738, Train Acc: 0.7163 | Val Loss: 2.1203, Val Acc: 0.4357, F1: 0.4196, AUC: 0.9409193802521009\n"
     ]
    },
    {
     "data": {
      "application/vnd.jupyter.widget-view+json": {
       "model_id": "229cfd5d17774c45980c06b488050f33",
       "version_major": 2,
       "version_minor": 0
      },
      "text/plain": [
       "Training:   0%|          | 0/307 [00:00<?, ?it/s]"
      ]
     },
     "metadata": {},
     "output_type": "display_data"
    },
    {
     "name": "stdout",
     "output_type": "stream",
     "text": [
      "Epoch 24/40 | Train Loss: 1.0300, Train Acc: 0.7269 | Val Loss: 1.5335, Val Acc: 0.5625, F1: 0.5566, AUC: 0.9645196953781513\n"
     ]
    },
    {
     "data": {
      "application/vnd.jupyter.widget-view+json": {
       "model_id": "fec9f71f886d4f4e879c1c6987074efc",
       "version_major": 2,
       "version_minor": 0
      },
      "text/plain": [
       "Training:   0%|          | 0/307 [00:00<?, ?it/s]"
      ]
     },
     "metadata": {},
     "output_type": "display_data"
    },
    {
     "name": "stdout",
     "output_type": "stream",
     "text": [
      "Epoch 25/40 | Train Loss: 0.9984, Train Acc: 0.7357 | Val Loss: 1.3857, Val Acc: 0.5993, F1: 0.6005, AUC: 0.9696433823529412\n",
      "✅ Saved Best Model\n"
     ]
    },
    {
     "data": {
      "application/vnd.jupyter.widget-view+json": {
       "model_id": "142fc8b8469144fea79c686307a4444d",
       "version_major": 2,
       "version_minor": 0
      },
      "text/plain": [
       "Training:   0%|          | 0/307 [00:00<?, ?it/s]"
      ]
     },
     "metadata": {},
     "output_type": "display_data"
    },
    {
     "name": "stdout",
     "output_type": "stream",
     "text": [
      "Epoch 26/40 | Train Loss: 0.9603, Train Acc: 0.7406 | Val Loss: 1.6021, Val Acc: 0.5400, F1: 0.5364, AUC: 0.9654044117647059\n"
     ]
    },
    {
     "data": {
      "application/vnd.jupyter.widget-view+json": {
       "model_id": "d47097e46307431a895bcae95a3b4b74",
       "version_major": 2,
       "version_minor": 0
      },
      "text/plain": [
       "Training:   0%|          | 0/307 [00:00<?, ?it/s]"
      ]
     },
     "metadata": {},
     "output_type": "display_data"
    },
    {
     "name": "stdout",
     "output_type": "stream",
     "text": [
      "Epoch 27/40 | Train Loss: 0.9088, Train Acc: 0.7568 | Val Loss: 1.6363, Val Acc: 0.5254, F1: 0.5130, AUC: 0.9672752100840335\n"
     ]
    },
    {
     "data": {
      "application/vnd.jupyter.widget-view+json": {
       "model_id": "5242eae403f346579b9725674194eec6",
       "version_major": 2,
       "version_minor": 0
      },
      "text/plain": [
       "Training:   0%|          | 0/307 [00:00<?, ?it/s]"
      ]
     },
     "metadata": {},
     "output_type": "display_data"
    },
    {
     "name": "stdout",
     "output_type": "stream",
     "text": [
      "Epoch 28/40 | Train Loss: 0.8886, Train Acc: 0.7646 | Val Loss: 1.3463, Val Acc: 0.6221, F1: 0.6248, AUC: 0.9702121848739497\n",
      "✅ Saved Best Model\n"
     ]
    },
    {
     "data": {
      "application/vnd.jupyter.widget-view+json": {
       "model_id": "cca194c592eb46728a6a36654b005813",
       "version_major": 2,
       "version_minor": 0
      },
      "text/plain": [
       "Training:   0%|          | 0/307 [00:00<?, ?it/s]"
      ]
     },
     "metadata": {},
     "output_type": "display_data"
    },
    {
     "name": "stdout",
     "output_type": "stream",
     "text": [
      "Epoch 29/40 | Train Loss: 0.8366, Train Acc: 0.7845 | Val Loss: 1.2378, Val Acc: 0.6600, F1: 0.6588, AUC: 0.9750659138655463\n",
      "✅ Saved Best Model\n"
     ]
    },
    {
     "data": {
      "application/vnd.jupyter.widget-view+json": {
       "model_id": "cd052cafec7b49b0a199b892fa46d454",
       "version_major": 2,
       "version_minor": 0
      },
      "text/plain": [
       "Training:   0%|          | 0/307 [00:00<?, ?it/s]"
      ]
     },
     "metadata": {},
     "output_type": "display_data"
    },
    {
     "name": "stdout",
     "output_type": "stream",
     "text": [
      "Epoch 30/40 | Train Loss: 0.8037, Train Acc: 0.7921 | Val Loss: 1.6680, Val Acc: 0.5089, F1: 0.5032, AUC: 0.9668541885504202\n"
     ]
    },
    {
     "data": {
      "application/vnd.jupyter.widget-view+json": {
       "model_id": "fde629e0207d40879588ede9cd658e76",
       "version_major": 2,
       "version_minor": 0
      },
      "text/plain": [
       "Training:   0%|          | 0/307 [00:00<?, ?it/s]"
      ]
     },
     "metadata": {},
     "output_type": "display_data"
    },
    {
     "name": "stdout",
     "output_type": "stream",
     "text": [
      "Epoch 31/40 | Train Loss: 0.7619, Train Acc: 0.8033 | Val Loss: 1.4121, Val Acc: 0.6061, F1: 0.6101, AUC: 0.9712683823529413\n"
     ]
    },
    {
     "data": {
      "application/vnd.jupyter.widget-view+json": {
       "model_id": "ba0d4847c6cf4aa1ab84f81eebb9f197",
       "version_major": 2,
       "version_minor": 0
      },
      "text/plain": [
       "Training:   0%|          | 0/307 [00:00<?, ?it/s]"
      ]
     },
     "metadata": {},
     "output_type": "display_data"
    },
    {
     "name": "stdout",
     "output_type": "stream",
     "text": [
      "Epoch 32/40 | Train Loss: 0.7209, Train Acc: 0.8183 | Val Loss: 1.6562, Val Acc: 0.5032, F1: 0.5146, AUC: 0.9685380777310926\n"
     ]
    },
    {
     "data": {
      "application/vnd.jupyter.widget-view+json": {
       "model_id": "14b63f3ea8954f1eafdc57f37354e9a0",
       "version_major": 2,
       "version_minor": 0
      },
      "text/plain": [
       "Training:   0%|          | 0/307 [00:00<?, ?it/s]"
      ]
     },
     "metadata": {},
     "output_type": "display_data"
    },
    {
     "name": "stdout",
     "output_type": "stream",
     "text": [
      "Epoch 33/40 | Train Loss: 0.6949, Train Acc: 0.8251 | Val Loss: 1.5890, Val Acc: 0.5375, F1: 0.5406, AUC: 0.9721775210084033\n"
     ]
    },
    {
     "data": {
      "application/vnd.jupyter.widget-view+json": {
       "model_id": "31ac9fd011bb4035a6373f3578bbf2c7",
       "version_major": 2,
       "version_minor": 0
      },
      "text/plain": [
       "Training:   0%|          | 0/307 [00:00<?, ?it/s]"
      ]
     },
     "metadata": {},
     "output_type": "display_data"
    },
    {
     "name": "stdout",
     "output_type": "stream",
     "text": [
      "Epoch 34/40 | Train Loss: 0.6812, Train Acc: 0.8267 | Val Loss: 1.2613, Val Acc: 0.6257, F1: 0.6190, AUC: 0.9753715861344537\n"
     ]
    },
    {
     "data": {
      "application/vnd.jupyter.widget-view+json": {
       "model_id": "0026b7ef62984dad8c02034080cfcedb",
       "version_major": 2,
       "version_minor": 0
      },
      "text/plain": [
       "Training:   0%|          | 0/307 [00:00<?, ?it/s]"
      ]
     },
     "metadata": {},
     "output_type": "display_data"
    },
    {
     "name": "stdout",
     "output_type": "stream",
     "text": [
      "Epoch 35/40 | Train Loss: 0.6430, Train Acc: 0.8400 | Val Loss: 1.3022, Val Acc: 0.6386, F1: 0.6454, AUC: 0.975748818277311\n"
     ]
    },
    {
     "data": {
      "application/vnd.jupyter.widget-view+json": {
       "model_id": "954a298a5bc64d6f9ee5b2856270835b",
       "version_major": 2,
       "version_minor": 0
      },
      "text/plain": [
       "Training:   0%|          | 0/307 [00:00<?, ?it/s]"
      ]
     },
     "metadata": {},
     "output_type": "display_data"
    },
    {
     "name": "stdout",
     "output_type": "stream",
     "text": [
      "Epoch 36/40 | Train Loss: 0.6031, Train Acc: 0.8487 | Val Loss: 1.4334, Val Acc: 0.5804, F1: 0.5873, AUC: 0.9723665966386554\n"
     ]
    },
    {
     "data": {
      "application/vnd.jupyter.widget-view+json": {
       "model_id": "c24c1efb85194fc98f7d97dc1431633a",
       "version_major": 2,
       "version_minor": 0
      },
      "text/plain": [
       "Training:   0%|          | 0/307 [00:00<?, ?it/s]"
      ]
     },
     "metadata": {},
     "output_type": "display_data"
    },
    {
     "name": "stdout",
     "output_type": "stream",
     "text": [
      "Epoch 37/40 | Train Loss: 0.5775, Train Acc: 0.8562 | Val Loss: 1.3862, Val Acc: 0.6075, F1: 0.6148, AUC: 0.9760332195378151\n"
     ]
    },
    {
     "data": {
      "application/vnd.jupyter.widget-view+json": {
       "model_id": "cea6f5cdef9747c09520c9b9e874709c",
       "version_major": 2,
       "version_minor": 0
      },
      "text/plain": [
       "Training:   0%|          | 0/307 [00:00<?, ?it/s]"
      ]
     },
     "metadata": {},
     "output_type": "display_data"
    },
    {
     "name": "stdout",
     "output_type": "stream",
     "text": [
      "Epoch 38/40 | Train Loss: 0.5607, Train Acc: 0.8597 | Val Loss: 2.2598, Val Acc: 0.4275, F1: 0.4060, AUC: 0.9631893382352942\n"
     ]
    },
    {
     "data": {
      "application/vnd.jupyter.widget-view+json": {
       "model_id": "18df1d670ce64e47878ddbce6b894516",
       "version_major": 2,
       "version_minor": 0
      },
      "text/plain": [
       "Training:   0%|          | 0/307 [00:00<?, ?it/s]"
      ]
     },
     "metadata": {},
     "output_type": "display_data"
    },
    {
     "name": "stdout",
     "output_type": "stream",
     "text": [
      "Epoch 39/40 | Train Loss: 0.5331, Train Acc: 0.8686 | Val Loss: 1.3390, Val Acc: 0.6118, F1: 0.6118, AUC: 0.9754439338235292\n"
     ]
    },
    {
     "data": {
      "application/vnd.jupyter.widget-view+json": {
       "model_id": "f2536784b6984adeb71c9ac526ff52dd",
       "version_major": 2,
       "version_minor": 0
      },
      "text/plain": [
       "Training:   0%|          | 0/307 [00:00<?, ?it/s]"
      ]
     },
     "metadata": {},
     "output_type": "display_data"
    },
    {
     "name": "stdout",
     "output_type": "stream",
     "text": [
      "Epoch 40/40 | Train Loss: 0.5025, Train Acc: 0.8787 | Val Loss: 1.5160, Val Acc: 0.5829, F1: 0.5893, AUC: 0.9742876838235291\n",
      "Training finished!\n"
     ]
    }
   ],
   "source": [
    "\n",
    "import torch.optim as optim\n",
    "from sklearn.metrics import accuracy_score, precision_score, recall_score, f1_score, confusion_matrix, roc_auc_score, roc_curve\n",
    "import numpy as np\n",
    "import matplotlib.pyplot as plt\n",
    "from tqdm.notebook import tqdm\n",
    "\n",
    "\n",
    "criterion = nn.CrossEntropyLoss()\n",
    "optimizer = optim.AdamW(model.parameters(), lr=1e-4)\n",
    "\n",
    "def train_one_epoch(model, loader, optimizer, criterion, device):\n",
    "    model.train()\n",
    "    running_loss = 0.0\n",
    "    all_preds, all_labels = [], []\n",
    "\n",
    "    for images, labels in tqdm(loader, desc=\"Training\", leave=False):\n",
    "        images, labels = images.to(device), labels.to(device)\n",
    "\n",
    "        optimizer.zero_grad()\n",
    "        outputs = model(images)\n",
    "        loss = criterion(outputs, labels)\n",
    "        loss.backward()\n",
    "        optimizer.step()\n",
    "\n",
    "        running_loss += loss.item() * images.size(0)\n",
    "        preds = torch.argmax(outputs, dim=1)\n",
    "        all_preds.extend(preds.cpu().numpy())\n",
    "        all_labels.extend(labels.cpu().numpy())\n",
    "\n",
    "    epoch_loss = running_loss / len(loader.dataset)\n",
    "    acc = accuracy_score(all_labels, all_preds)\n",
    "    return epoch_loss, acc\n",
    "\n",
    "@torch.no_grad()\n",
    "def evaluate(model, loader, criterion, device, num_classes=35, plot_roc=False):\n",
    "    model.eval()\n",
    "    running_loss = 0.0\n",
    "    all_preds, all_labels, all_probs = [], [], []\n",
    "\n",
    "    for images, labels in loader:\n",
    "        images, labels = images.to(device), labels.to(device)\n",
    "        outputs = model(images)\n",
    "        loss = criterion(outputs, labels)\n",
    "        running_loss += loss.item() * images.size(0)\n",
    "\n",
    "        probs = torch.softmax(outputs, dim=1)\n",
    "        preds = torch.argmax(probs, dim=1)\n",
    "\n",
    "        all_preds.extend(preds.cpu().numpy())\n",
    "        all_labels.extend(labels.cpu().numpy())\n",
    "        all_probs.extend(probs.cpu().numpy())\n",
    "\n",
    "    epoch_loss = running_loss / len(loader.dataset)\n",
    "    acc = accuracy_score(all_labels, all_preds)\n",
    "    prec = precision_score(all_labels, all_preds, average='macro', zero_division=0)\n",
    "    rec = recall_score(all_labels, all_preds, average='macro', zero_division=0)\n",
    "    f1 = f1_score(all_labels, all_preds, average='macro', zero_division=0)\n",
    "    cm = confusion_matrix(all_labels, all_preds)\n",
    "\n",
    "    try:\n",
    "        y_true_bin = np.eye(num_classes)[all_labels]\n",
    "        auc = roc_auc_score(y_true_bin, np.array(all_probs), average=\"macro\", multi_class=\"ovr\")\n",
    "    except Exception:\n",
    "        auc = None\n",
    "\n",
    "    if plot_roc and auc is not None:\n",
    "        fpr, tpr, _ = roc_curve(y_true_bin.ravel(), np.array(all_probs).ravel())\n",
    "        plt.plot(fpr, tpr, label=f\"AUC={auc:.4f}\")\n",
    "        plt.plot([0,1],[0,1],'--')\n",
    "        plt.xlabel(\"FPR\")\n",
    "        plt.ylabel(\"TPR\")\n",
    "        plt.title(\"ROC Curve (macro)\")\n",
    "        plt.legend()\n",
    "        plt.show()\n",
    "\n",
    "    return {\n",
    "        \"loss\": epoch_loss,\n",
    "        \"accuracy\": acc,\n",
    "        \"precision\": prec,\n",
    "        \"recall\": rec,\n",
    "        \"f1\": f1,\n",
    "        \"auc\": auc,\n",
    "        \"confusion_matrix\": cm\n",
    "    }\n",
    "\n",
    "\n",
    "\n",
    "EPOCHS = 40\n",
    "best_acc = 0.0\n",
    "history = []\n",
    "\n",
    "for epoch in range(1, EPOCHS+1):\n",
    "    train_loss, train_acc = train_one_epoch(model, train_loader, optimizer, criterion, device)\n",
    "    val_metrics = evaluate(model, val_clean_loader, criterion, device, num_classes=len(class_to_idx))\n",
    "\n",
    "    history.append({\n",
    "        \"epoch\": epoch,\n",
    "        \"train_loss\": train_loss,\n",
    "        \"train_acc\": train_acc,\n",
    "        \"val_loss\": val_metrics[\"loss\"],\n",
    "        \"val_acc\": val_metrics[\"accuracy\"],\n",
    "        \"val_f1\": val_metrics[\"f1\"]\n",
    "    })\n",
    "\n",
    "    print(f\"Epoch {epoch}/{EPOCHS} | \"\n",
    "          f\"Train Loss: {train_loss:.4f}, Train Acc: {train_acc:.4f} | \"\n",
    "          f\"Val Loss: {val_metrics['loss']:.4f}, Val Acc: {val_metrics['accuracy']:.4f}, \"\n",
    "          f\"F1: {val_metrics['f1']:.4f}, AUC: {val_metrics['auc']}\")\n",
    "\n",
    "    if val_metrics[\"accuracy\"] > best_acc:\n",
    "        best_acc = val_metrics[\"accuracy\"]\n",
    "        torch.save(model.state_dict(), \"best_customcnn.pth\")\n",
    "        print(\"✅ Saved Best Model\")\n",
    "\n",
    "print(\"Training finished!\")\n"
   ]
  },
  {
   "cell_type": "code",
   "execution_count": null,
   "metadata": {},
   "outputs": [
    {
     "name": "stderr",
     "output_type": "stream",
     "text": [
      "/var/folders/00/j4l6fnbd2xbdy96tqx6mv8t80000gn/T/ipykernel_8731/576859344.py:6: FutureWarning: You are using `torch.load` with `weights_only=False` (the current default value), which uses the default pickle module implicitly. It is possible to construct malicious pickle data which will execute arbitrary code during unpickling (See https://github.com/pytorch/pytorch/blob/main/SECURITY.md#untrusted-models for more details). In a future release, the default value for `weights_only` will be flipped to `True`. This limits the functions that could be executed during unpickling. Arbitrary objects will no longer be allowed to be loaded via this mode unless they are explicitly allowlisted by the user via `torch.serialization.add_safe_globals`. We recommend you start setting `weights_only=True` for any use case where you don't have full control of the loaded file. Please open an issue on GitHub for any issues related to this experimental feature.\n",
      "  best_model.load_state_dict(torch.load(\"best_customcnn.pth\", map_location=device))\n"
     ]
    },
    {
     "name": "stdout",
     "output_type": "stream",
     "text": [
      "📊 Validation (Clean) -> Acc: 0.6600, F1: 0.6588, AUC: 0.9751\n",
      "📊 Validation (Noisy) -> Acc: 0.6450, F1: 0.6453, AUC: 0.9723\n",
      "📊 Test (Clean) -> Acc: 0.6529, F1: 0.6540, AUC: 0.9720\n",
      "📊 Test (Noisy) -> Acc: 0.6357, F1: 0.6369, AUC: 0.9693\n",
      "Robustness (Validation) -> Acc: 0.9773, F1: 0.9795, AUC: 0.9972\n",
      "Robustness (Test) -> Acc: 0.9737, F1: 0.9739, AUC: 0.9972\n"
     ]
    }
   ],
   "source": [
    "\n",
    "import torch\n",
    "from sklearn.metrics import accuracy_score, f1_score, roc_auc_score\n",
    "import numpy as np\n",
    "\n",
    "best_model = CustomCNN(num_classes=35).to(device)\n",
    "best_model.load_state_dict(torch.load(\"best_customcnn.pth\", map_location=device))\n",
    "best_model.eval()\n",
    "\n",
    "def evaluate_model(model, dataloader, name=\"Dataset\"):\n",
    "    model.eval()\n",
    "    all_preds, all_labels, all_probs = [], [], []\n",
    "    \n",
    "    with torch.no_grad():\n",
    "        for images, labels in dataloader:\n",
    "            images, labels = images.to(device), labels.to(device)\n",
    "            outputs = model(images)\n",
    "            probs = torch.softmax(outputs, dim=1)\n",
    "            preds = torch.argmax(probs, dim=1)\n",
    "\n",
    "            all_preds.extend(preds.cpu().numpy())\n",
    "            all_labels.extend(labels.cpu().numpy())\n",
    "            all_probs.extend(probs.cpu().numpy())\n",
    "\n",
    "    acc = accuracy_score(all_labels, all_preds)\n",
    "    f1 = f1_score(all_labels, all_preds, average=\"macro\")\n",
    "    try:\n",
    "        auc = roc_auc_score(all_labels, all_probs, multi_class=\"ovr\")\n",
    "    except:\n",
    "        auc = float(\"nan\") \n",
    "\n",
    "    print(f\"📊 {name} -> Acc: {acc:.4f}, F1: {f1:.4f}, AUC: {auc:.4f}\")\n",
    "    return acc, f1, auc\n",
    "\n",
    "\n",
    "val_clean = evaluate_model(best_model, val_clean_loader, \"Validation (Clean)\")\n",
    "val_noisy = evaluate_model(best_model, val_noisy_loader, \"Validation (Noisy)\")\n",
    "test_clean = evaluate_model(best_model, test_clean_loader, \"Test (Clean)\")\n",
    "test_noisy = evaluate_model(best_model, test_noisy_loader, \"Test (Noisy)\")\n",
    "\n",
    "def compute_robustness(clean_metrics, noisy_metrics, name=\"Dataset\"):\n",
    "    clean_acc, clean_f1, clean_auc = clean_metrics\n",
    "    noisy_acc, noisy_f1, noisy_auc = noisy_metrics\n",
    "\n",
    "    acc_robust = noisy_acc / clean_acc if clean_acc > 0 else 0\n",
    "    f1_robust = noisy_f1 / clean_f1 if clean_f1 > 0 else 0\n",
    "    auc_robust = noisy_auc / clean_auc if clean_auc > 0 else 0\n",
    "\n",
    "    print(f\"Robustness ({name}) -> Acc: {acc_robust:.4f}, F1: {f1_robust:.4f}, AUC: {auc_robust:.4f}\")\n",
    "\n",
    "compute_robustness(val_clean, val_noisy, \"Validation\")\n",
    "compute_robustness(test_clean, test_noisy, \"Test\")\n",
    "\n"
   ]
  },
  {
   "cell_type": "code",
   "execution_count": 18,
   "metadata": {},
   "outputs": [
    {
     "data": {
      "image/png": "[encoded data removed]",
      "text/plain": [
       "<Figure size 1800x1400 with 2 Axes>"
      ]
     },
     "metadata": {},
     "output_type": "display_data"
    }
   ],
   "source": [
    "import matplotlib.pyplot as plt\n",
    "import seaborn as sns\n",
    "from sklearn.metrics import confusion_matrix\n",
    "import numpy as np\n",
    "\n",
    "def plot_confusion_matrix(model, dataloader, class_names, title=\"Confusion Matrix\"):\n",
    "    model.eval()\n",
    "    all_preds = []\n",
    "    all_labels = []\n",
    "\n",
    "    with torch.no_grad():\n",
    "        for imgs, labels in dataloader:\n",
    "            imgs, labels = imgs.to(device), labels.to(device)\n",
    "            outputs = model(imgs)\n",
    "            preds = torch.argmax(outputs, dim=1)\n",
    "            all_preds.extend(preds.cpu().numpy())\n",
    "            all_labels.extend(labels.cpu().numpy())\n",
    "\n",
    "    cm = confusion_matrix(all_labels, all_preds, labels=list(range(len(class_names))))\n",
    "\n",
    "\n",
    "    cm_norm = cm.astype('float') / cm.sum(axis=1)[:, np.newaxis]\n",
    "\n",
    "    plt.figure(figsize=(18, 14))\n",
    "    sns.heatmap(cm_norm, annot=False, cmap=\"Blues\", xticklabels=class_names, yticklabels=class_names)\n",
    "    plt.title(title, fontsize=18)\n",
    "    plt.xlabel(\"Predicted\", fontsize=14)\n",
    "    plt.ylabel(\"True\", fontsize=14)\n",
    "    plt.xticks(rotation=90)\n",
    "    plt.yticks(rotation=0)\n",
    "    plt.show()\n",
    "\n",
    "class_names = [f\"Class {i}\" for i in range(35)]\n",
    "plot_confusion_matrix(best_model, test_clean_loader, class_names, title=\"Confusion Matrix - Test (Clean)\")\n"
   ]
  },
  {
   "cell_type": "code",
   "execution_count": 31,
   "metadata": {},
   "outputs": [
    {
     "data": {
      "image/png": "[encoded data removed]",
      "text/plain": [
       "<Figure size 600x600 with 1 Axes>"
      ]
     },
     "metadata": {},
     "output_type": "display_data"
    }
   ],
   "source": [
    "from sklearn.preprocessing import label_binarize\n",
    "from sklearn.metrics import roc_curve, auc\n",
    "import matplotlib.pyplot as plt\n",
    "import numpy as np\n",
    "\n",
    "best_model.eval()\n",
    "all_labels, all_probs = [], []\n",
    "\n",
    "with torch.no_grad():\n",
    "    for images, labels in val_clean_loader:   \n",
    "        images, labels = images.to(device), labels.to(device)\n",
    "        outputs = best_model(images)\n",
    "        probs = torch.softmax(outputs, dim=1)\n",
    "\n",
    "        all_labels.extend(labels.cpu().numpy())\n",
    "        all_probs.extend(probs.cpu().numpy())\n",
    "\n",
    "y_true = np.array(all_labels)   \n",
    "y_probs = np.array(all_probs)   \n",
    "\n",
    "n_classes = y_probs.shape[1]\n",
    "y_true_bin = label_binarize(y_true, classes=list(range(n_classes)))\n",
    "\n",
    "\n",
    "fpr, tpr, roc_auc = {}, {}, {}\n",
    "for i in range(n_classes):\n",
    "    fpr[i], tpr[i], _ = roc_curve(y_true_bin[:, i], y_probs[:, i])\n",
    "    roc_auc[i] = auc(fpr[i], tpr[i])\n",
    "\n",
    "all_fpr = np.unique(np.concatenate([fpr[i] for i in range(n_classes)]))\n",
    "mean_tpr = np.zeros_like(all_fpr)\n",
    "for i in range(n_classes):\n",
    "    mean_tpr += np.interp(all_fpr, fpr[i], tpr[i])\n",
    "mean_tpr /= n_classes\n",
    "roc_auc[\"macro\"] = auc(all_fpr, mean_tpr)\n",
    "\n",
    "plt.figure(figsize=(6,6))\n",
    "plt.plot(all_fpr, mean_tpr, label=f\"Macro-average ROC (AUC = {roc_auc['macro']:.3f})\", color=\"blue\", lw=2)\n",
    "plt.plot([0, 1], [0, 1], \"k--\", lw=1)\n",
    "plt.xlabel(\"False Positive Rate\")\n",
    "plt.ylabel(\"True Positive Rate\")\n",
    "plt.title(\"ROC Curve (Macro Average)\")\n",
    "plt.legend(loc=\"lower right\")\n",
    "plt.grid(True, linestyle=\"--\", alpha=0.7)\n",
    "plt.show()\n"
   ]
  },
  {
   "cell_type": "code",
   "execution_count": 26,
   "metadata": {},
   "outputs": [
    {
     "name": "stdout",
     "output_type": "stream",
     "text": [
      "FAR: 0.2037, FRR: 0.2440\n"
     ]
    }
   ],
   "source": [
    "import torch\n",
    "import numpy as np\n",
    "\n",
    "def compute_far_frr(model, dataloader, device, threshold=0.5):\n",
    "    model.eval()\n",
    "    all_labels = []\n",
    "    all_probs = []\n",
    "    all_preds = []\n",
    "\n",
    "    with torch.no_grad():\n",
    "        for imgs, labels in dataloader:\n",
    "            imgs, labels = imgs.to(device), labels.to(device)\n",
    "            outputs = model(imgs)\n",
    "            probs = torch.softmax(outputs, dim=1)\n",
    "\n",
    "            preds = torch.argmax(probs, dim=1)\n",
    "\n",
    "            all_labels.append(labels.cpu().numpy())\n",
    "            all_probs.append(probs.cpu().numpy())\n",
    "            all_preds.append(preds.cpu().numpy())\n",
    "\n",
    "    y_true = np.concatenate(all_labels)   \n",
    "    y_probs = np.concatenate(all_probs)     \n",
    "    y_pred = np.concatenate(all_preds)        \n",
    "\n",
    "\n",
    "    y_scores = y_probs.max(axis=1)\n",
    "    y_binary = (y_scores >= threshold).astype(int)\n",
    "\n",
    "    y_true_binary = (y_pred == y_true).astype(int)\n",
    "\n",
    "    FAR = ((y_binary == 1) & (y_true_binary == 0)).sum() / max((y_true_binary == 0).sum(), 1)\n",
    "\n",
    "    FRR = ((y_binary == 0) & (y_true_binary == 1)).sum() / max((y_true_binary == 1).sum(), 1)\n",
    "\n",
    "    print(f\"FAR: {FAR:.4f}, FRR: {FRR:.4f}\")\n",
    "    return FAR, FRR\n",
    "\n",
    "FAR, FRR = compute_far_frr(best_model, test_clean_loader, device, threshold=0.5)\n"
   ]
  }
 ],
 "metadata": {
  "kernelspec": {
   "display_name": ".venv",
   "language": "python",
   "name": "python3"
  },
  "language_info": {
   "codemirror_mode": {
    "name": "ipython",
    "version": 3
   },
   "file_extension": ".py",
   "mimetype": "text/x-python",
   "name": "python",
   "nbconvert_exporter": "python",
   "pygments_lexer": "ipython3",
   "version": "3.10.18"
  }
 },
 "nbformat": 4,
 "nbformat_minor": 2
}
